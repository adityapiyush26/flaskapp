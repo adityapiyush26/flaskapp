{
 "cells": [
  {
   "cell_type": "markdown",
   "metadata": {},
   "source": [
    "# MONTE CARLO METHODS OF INFERENCE"
   ]
  },
  {
   "cell_type": "markdown",
   "metadata": {},
   "source": [
    "#### In this section we will see how we can simulate random sequence of numbers using MONTE CARLO SIMULATION."
   ]
  },
  {
   "cell_type": "markdown",
   "metadata": {},
   "source": [
    "The value of pi can be calculated using the monte carlo simulation. In this part first we will generate random tuples of numbers using random function in numpy library into two separate array array_x and array_y. \n",
    "The value of pi will be area of circle of radius r divided by area of square with side r, same as the radius of the circle.\n",
    "\n",
    "The value of  $$ pi ( \\pi ) = \\frac{area of (circle)}{area of (square)} \\\\ $$"
   ]
  },
  {
   "cell_type": "code",
   "execution_count": null,
   "metadata": {},
   "outputs": [],
   "source": []
  },
  {
   "cell_type": "code",
   "execution_count": 70,
   "metadata": {},
   "outputs": [],
   "source": [
    "import numpy as np\n",
    "import pandas as pd\n",
    "import matplotlib.pyplot as plt\n",
    "import seaborn as sns\n",
    "%matplotlib inline"
   ]
  },
  {
   "cell_type": "markdown",
   "metadata": {},
   "source": []
  },
  {
   "cell_type": "code",
   "execution_count": 71,
   "metadata": {},
   "outputs": [],
   "source": [
    "array_x = np.random.rand(10000)\n",
    "array_y = np.random.rand(10000)\n",
    "array_x = array_x * 5\n",
    "array_y = array_y * 5\n"
   ]
  },
  {
   "cell_type": "code",
   "execution_count": 72,
   "metadata": {},
   "outputs": [
    {
     "data": {
      "text/plain": [
       "array([4.87578308, 0.92301236, 3.95951903, ..., 4.68964039, 3.02047086,\n",
       "       2.68819115])"
      ]
     },
     "execution_count": 72,
     "metadata": {},
     "output_type": "execute_result"
    }
   ],
   "source": [
    "array_x"
   ]
  },
  {
   "cell_type": "code",
   "execution_count": 73,
   "metadata": {},
   "outputs": [
    {
     "data": {
      "text/plain": [
       "array([2.93538063, 1.82408025, 4.47612123, ..., 1.15829695, 0.3946316 ,\n",
       "       4.15255628])"
      ]
     },
     "execution_count": 73,
     "metadata": {},
     "output_type": "execute_result"
    }
   ],
   "source": [
    "array_y"
   ]
  },
  {
   "cell_type": "code",
   "execution_count": 83,
   "metadata": {},
   "outputs": [],
   "source": [
    "pi_val = []\n",
    "s=1\n",
    "c=1\n",
    "for i in range(10000):\n",
    "   \n",
    "    if array_x[i]<2 and array_y[i]<2:\n",
    "        s=s+1\n",
    "    if ((array_x[i]-2)*(array_x[i]-2)+(array_y[i]-2)*(array_y[i]-2))<4:\n",
    "        c=c+1\n",
    "    pi=c/s\n",
    "    pi_val.append(pi)\n",
    "    "
   ]
  },
  {
   "cell_type": "code",
   "execution_count": 75,
   "metadata": {},
   "outputs": [
    {
     "data": {
      "text/plain": [
       "(array([4.000e+00, 0.000e+00, 0.000e+00, 0.000e+00, 0.000e+00, 0.000e+00,\n",
       "        0.000e+00, 0.000e+00, 0.000e+00, 0.000e+00, 0.000e+00, 0.000e+00,\n",
       "        0.000e+00, 0.000e+00, 2.000e+00, 0.000e+00, 0.000e+00, 0.000e+00,\n",
       "        0.000e+00, 0.000e+00, 0.000e+00, 0.000e+00, 0.000e+00, 0.000e+00,\n",
       "        0.000e+00, 0.000e+00, 0.000e+00, 0.000e+00, 2.000e+00, 0.000e+00,\n",
       "        0.000e+00, 0.000e+00, 0.000e+00, 0.000e+00, 0.000e+00, 0.000e+00,\n",
       "        1.000e+00, 2.000e+00, 6.000e+00, 7.000e+00, 3.000e+00, 2.200e+01,\n",
       "        1.700e+01, 1.900e+01, 1.500e+01, 2.100e+01, 2.100e+01, 1.400e+01,\n",
       "        1.600e+01, 1.100e+01, 5.700e+01, 1.480e+02, 1.900e+02, 1.500e+02,\n",
       "        1.110e+02, 3.860e+02, 8.120e+02, 8.470e+02, 1.604e+03, 3.071e+03,\n",
       "        2.385e+03, 2.100e+01, 2.100e+01, 0.000e+00, 1.000e+00, 0.000e+00,\n",
       "        1.000e+00, 0.000e+00, 0.000e+00, 0.000e+00, 0.000e+00, 2.000e+00,\n",
       "        0.000e+00, 0.000e+00, 0.000e+00, 0.000e+00, 0.000e+00, 0.000e+00,\n",
       "        1.000e+00, 4.000e+00, 0.000e+00, 0.000e+00, 0.000e+00, 0.000e+00,\n",
       "        0.000e+00, 1.000e+00, 0.000e+00, 0.000e+00, 0.000e+00, 0.000e+00,\n",
       "        0.000e+00, 0.000e+00, 3.000e+00, 0.000e+00, 0.000e+00, 0.000e+00,\n",
       "        0.000e+00, 0.000e+00, 0.000e+00, 1.000e+00]),\n",
       " array([1.   , 1.035, 1.07 , 1.105, 1.14 , 1.175, 1.21 , 1.245, 1.28 ,\n",
       "        1.315, 1.35 , 1.385, 1.42 , 1.455, 1.49 , 1.525, 1.56 , 1.595,\n",
       "        1.63 , 1.665, 1.7  , 1.735, 1.77 , 1.805, 1.84 , 1.875, 1.91 ,\n",
       "        1.945, 1.98 , 2.015, 2.05 , 2.085, 2.12 , 2.155, 2.19 , 2.225,\n",
       "        2.26 , 2.295, 2.33 , 2.365, 2.4  , 2.435, 2.47 , 2.505, 2.54 ,\n",
       "        2.575, 2.61 , 2.645, 2.68 , 2.715, 2.75 , 2.785, 2.82 , 2.855,\n",
       "        2.89 , 2.925, 2.96 , 2.995, 3.03 , 3.065, 3.1  , 3.135, 3.17 ,\n",
       "        3.205, 3.24 , 3.275, 3.31 , 3.345, 3.38 , 3.415, 3.45 , 3.485,\n",
       "        3.52 , 3.555, 3.59 , 3.625, 3.66 , 3.695, 3.73 , 3.765, 3.8  ,\n",
       "        3.835, 3.87 , 3.905, 3.94 , 3.975, 4.01 , 4.045, 4.08 , 4.115,\n",
       "        4.15 , 4.185, 4.22 , 4.255, 4.29 , 4.325, 4.36 , 4.395, 4.43 ,\n",
       "        4.465, 4.5  ]),\n",
       " <BarContainer object of 100 artists>)"
      ]
     },
     "execution_count": 75,
     "metadata": {},
     "output_type": "execute_result"
    },
    {
     "data": {
      "image/png": "[encoded data removed]",
      "text/plain": [
       "<Figure size 432x288 with 1 Axes>"
      ]
     },
     "metadata": {
      "needs_background": "light"
     },
     "output_type": "display_data"
    }
   ],
   "source": [
    "plt.hist(pi_val, bins = 100)"
   ]
  },
  {
   "cell_type": "code",
   "execution_count": 82,
   "metadata": {},
   "outputs": [
    {
     "data": {
      "text/plain": [
       "[<matplotlib.lines.Line2D at 0x7ff27ffab970>]"
      ]
     },
     "execution_count": 82,
     "metadata": {},
     "output_type": "execute_result"
    },
    {
     "data": {
      "image/png": "[encoded data removed]",
      "text/plain": [
       "<Figure size 432x288 with 1 Axes>"
      ]
     },
     "metadata": {
      "needs_background": "light"
     },
     "output_type": "display_data"
    }
   ],
   "source": [
    "y = np.arange(1, 10001)\n",
    "plt.plot(y, pi_val)"
   ]
  },
  {
   "cell_type": "code",
   "execution_count": null,
   "metadata": {},
   "outputs": [],
   "source": []
  },
  {
   "cell_type": "code",
   "execution_count": null,
   "metadata": {},
   "outputs": [],
   "source": []
  }
 ],
 "metadata": {
  "kernelspec": {
   "display_name": "Python 3",
   "language": "python",
   "name": "python3"
  },
  "language_info": {
   "codemirror_mode": {
    "name": "ipython",
    "version": 3
   },
   "file_extension": ".py",
   "mimetype": "text/x-python",
   "name": "python",
   "nbconvert_exporter": "python",
   "pygments_lexer": "ipython3",
   "version": "3.8.5"
  }
 },
 "nbformat": 4,
 "nbformat_minor": 4
}
